{
 "cells": [
  {
   "cell_type": "code",
   "execution_count": 1,
   "metadata": {},
   "outputs": [],
   "source": [
    "from models.modules import *"
   ]
  },
  {
   "cell_type": "code",
   "execution_count": 2,
   "metadata": {},
   "outputs": [],
   "source": [
    "import tensorflow as tf\n",
    "from tensorflow.contrib.rnn import GRUCell, MultiRNNCell, OutputProjectionWrapper, ResidualWrapper\n",
    "from tensorflow.contrib.seq2seq import BasicDecoder, BahdanauAttention, AttentionWrapper\n",
    "from text.symbols import symbols\n",
    "from hparams import hparams, hparams_debug_string\n",
    "from models.helpers import TacoTestHelper, TacoTrainingHelper\n",
    "from models.modules import encoder_cbhg, post_cbhg, prenet\n",
    "from models.rnn_wrappers import DecoderPrenetWrapper, ConcatOutputAndAttentionWrapper"
   ]
  },
  {
   "cell_type": "code",
   "execution_count": 3,
   "metadata": {},
   "outputs": [],
   "source": [
    "batch_size = 1\n",
    "input_len = 10\n",
    "output_len = 100\n",
    "\n",
    "is_training = True\n",
    "\n",
    "hparams.parse('')\n",
    "hp = hparams"
   ]
  },
  {
   "cell_type": "code",
   "execution_count": 4,
   "metadata": {},
   "outputs": [],
   "source": [
    "inputs = tf.placeholder(tf.int32, [batch_size, input_len], 'inputs')\n",
    "input_lengths = tf.placeholder(tf.int32, [batch_size], 'input_lengths')\n",
    "mel_targets = tf.placeholder(tf.float32, [batch_size, output_len, 80], 'mel_targets')\n",
    "linear_targets = tf.placeholder(tf.float32, [batch_size, output_len, 1025], 'linear_targets')"
   ]
  },
  {
   "cell_type": "code",
   "execution_count": 5,
   "metadata": {},
   "outputs": [
    {
     "name": "stdout",
     "output_type": "stream",
     "text": [
      "WARNING:tensorflow:From /home/jkpark/Documents/tacotron/taco_env/lib/python3.6/site-packages/tensorflow/python/ops/rnn.py:417: calling reverse_sequence (from tensorflow.python.ops.array_ops) with seq_dim is deprecated and will be removed in a future version.\n",
      "Instructions for updating:\n",
      "seq_dim is deprecated, use seq_axis instead\n",
      "WARNING:tensorflow:From /home/jkpark/Documents/tacotron/taco_env/lib/python3.6/site-packages/tensorflow/python/util/deprecation.py:432: calling reverse_sequence (from tensorflow.python.ops.array_ops) with batch_dim is deprecated and will be removed in a future version.\n",
      "Instructions for updating:\n",
      "batch_dim is deprecated, use batch_axis instead\n"
     ]
    }
   ],
   "source": [
    "embedding_table = tf.get_variable(\n",
    "    'embedding', [len(symbols), hp.embed_depth], dtype=tf.float32,\n",
    "    initializer=tf.truncated_normal_initializer(stddev=0.5))\n",
    "embedded_inputs = tf.nn.embedding_lookup(embedding_table, inputs)\n",
    "\n",
    "prenet_outputs = prenet(embedded_inputs, is_training, hp.prenet_depths)\n",
    "encoder_outputs = encoder_cbhg(prenet_outputs, input_lengths, is_training, hp.encoder_depth)"
   ]
  },
  {
   "cell_type": "code",
   "execution_count": 6,
   "metadata": {},
   "outputs": [],
   "source": [
    "g_cell = GRUCell(hp.attention_depth)"
   ]
  },
  {
   "cell_type": "code",
   "execution_count": 7,
   "metadata": {
    "scrolled": true
   },
   "outputs": [],
   "source": [
    "bd_atten = BahdanauAttention(hp.attention_depth, encoder_outputs)"
   ]
  },
  {
   "cell_type": "code",
   "execution_count": 8,
   "metadata": {},
   "outputs": [],
   "source": [
    "attention_cell = AttentionWrapper(g_cell, bd_atten, alignment_history=True, output_attention=False)"
   ]
  },
  {
   "cell_type": "code",
   "execution_count": 9,
   "metadata": {},
   "outputs": [],
   "source": [
    "attention_cell = DecoderPrenetWrapper(attention_cell, is_training, hp.prenet_depths)"
   ]
  },
  {
   "cell_type": "code",
   "execution_count": 10,
   "metadata": {},
   "outputs": [],
   "source": [
    "concat_cell = ConcatOutputAndAttentionWrapper(attention_cell)"
   ]
  },
  {
   "cell_type": "code",
   "execution_count": 11,
   "metadata": {},
   "outputs": [],
   "source": [
    "decoder_cell = MultiRNNCell([\n",
    "                    OutputProjectionWrapper(concat_cell, hp.decoder_depth),\n",
    "                    ResidualWrapper(GRUCell(hp.decoder_depth)),\n",
    "                    ResidualWrapper(GRUCell(hp.decoder_depth))\n",
    "                ], state_is_tuple=True)"
   ]
  },
  {
   "cell_type": "code",
   "execution_count": 12,
   "metadata": {},
   "outputs": [],
   "source": [
    "output_cell = OutputProjectionWrapper(decoder_cell, hp.num_mels * hp.outputs_per_step)\n",
    "decoder_init_state = output_cell.zero_state(batch_size=batch_size, dtype=tf.float32)"
   ]
  },
  {
   "cell_type": "code",
   "execution_count": 13,
   "metadata": {},
   "outputs": [],
   "source": [
    "if is_training:\n",
    "    helper = TacoTrainingHelper(inputs, mel_targets, hp.num_mels, hp.outputs_per_step)\n",
    "else:\n",
    "    helper = TacoTestHelper(batch_size, hp.num_mels, hp.outputs_per_step)"
   ]
  },
  {
   "cell_type": "code",
   "execution_count": 14,
   "metadata": {},
   "outputs": [],
   "source": [
    "(decoder_outputs, _), final_decoder_state, _ = tf.contrib.seq2seq.dynamic_decode(\n",
    "    BasicDecoder(output_cell, helper, decoder_init_state),\n",
    "    maximum_iterations=hp.max_iters)"
   ]
  },
  {
   "cell_type": "code",
   "execution_count": 15,
   "metadata": {},
   "outputs": [],
   "source": [
    "mel_outputs = tf.reshape(decoder_outputs, [batch_size, -1, hp.num_mels])"
   ]
  },
  {
   "cell_type": "code",
   "execution_count": 17,
   "metadata": {},
   "outputs": [],
   "source": [
    "post_outputs = post_cbhg(mel_outputs, hp.num_mels, is_training, hp.postnet_depth)"
   ]
  },
  {
   "cell_type": "code",
   "execution_count": 18,
   "metadata": {},
   "outputs": [],
   "source": [
    "linear_outputs = tf.layers.dense(post_outputs, hp.num_freq)"
   ]
  },
  {
   "cell_type": "code",
   "execution_count": 19,
   "metadata": {},
   "outputs": [],
   "source": [
    "alignments = tf.transpose(final_decoder_state[0].alignment_history.stack(), [1, 2, 0])"
   ]
  },
  {
   "cell_type": "code",
   "execution_count": 25,
   "metadata": {},
   "outputs": [
    {
     "data": {
      "text/plain": [
       "<tf.Tensor 'mel_targets:0' shape=(1, 100, 80) dtype=float32>"
      ]
     },
     "execution_count": 25,
     "metadata": {},
     "output_type": "execute_result"
    }
   ],
   "source": [
    "mel_targets"
   ]
  },
  {
   "cell_type": "code",
   "execution_count": 26,
   "metadata": {},
   "outputs": [
    {
     "data": {
      "text/plain": [
       "<tf.Tensor 'Reshape:0' shape=(1, ?, 80) dtype=float32>"
      ]
     },
     "execution_count": 26,
     "metadata": {},
     "output_type": "execute_result"
    }
   ],
   "source": [
    "mel_outputs"
   ]
  }
 ],
 "metadata": {
  "kernelspec": {
   "display_name": "taco_env",
   "language": "python",
   "name": "taco_env"
  },
  "language_info": {
   "codemirror_mode": {
    "name": "ipython",
    "version": 3
   },
   "file_extension": ".py",
   "mimetype": "text/x-python",
   "name": "python",
   "nbconvert_exporter": "python",
   "pygments_lexer": "ipython3",
   "version": "3.6.5"
  }
 },
 "nbformat": 4,
 "nbformat_minor": 2
}
