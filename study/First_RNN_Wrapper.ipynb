{
 "cells": [
  {
   "cell_type": "code",
   "execution_count": 1,
   "metadata": {},
   "outputs": [],
   "source": [
    "import numpy as np\n",
    "import tensorflow as tf\n",
    "from tensorflow.contrib.rnn import RNNCell, GRUCell"
   ]
  },
  {
   "cell_type": "code",
   "execution_count": 2,
   "metadata": {},
   "outputs": [],
   "source": [
    "class FirstWrapper(RNNCell):\n",
    "    def __init__(self, cell1, cell2, layer_sizes):\n",
    "        super(FirstWrapper, self).__init__()\n",
    "        self._cell1 = cell1\n",
    "        self._cell2 = cell2\n",
    "        self._layer_sizes = layer_sizes\n",
    "        \n",
    "    @property\n",
    "    def state_size(self):\n",
    "        return [self._cell1.state_size, self._cell2.state_size]\n",
    "    \n",
    "    @property\n",
    "    def output_size(self):\n",
    "        return self._cell2.output_size\n",
    "    \n",
    "    def call(self, inputs, state):\n",
    "        output, state1 = self._cell1(inputs, state[0])\n",
    "        \n",
    "        x = output\n",
    "        with tf.variable_scope('prenet') as scope:\n",
    "            for i, num in enumerate(self._layer_sizes, 1):\n",
    "                dense = tf.layers.dense(x, num, tf.nn.relu, name='dense_%d'%(i))\n",
    "                x = tf.layers.dropout(dense, name='dropout_%d'%(i))\n",
    "                \n",
    "        output = x\n",
    "        \n",
    "        new_output, state2 = self._cell2(output, state[1])\n",
    "        new_state = [state1, state2]\n",
    "        return new_output, [state1, state2]\n",
    "    \n",
    "    def zero_state(self, batch_size, dtype):\n",
    "        return [self._cell1.zero_state(batch_size, dtype), self._cell2.zero_state(batch_size, dtype)]"
   ]
  },
  {
   "cell_type": "code",
   "execution_count": 3,
   "metadata": {},
   "outputs": [],
   "source": [
    "test_cell = FirstWrapper(GRUCell(128, name='cell1'), GRUCell(16, name='cell2'), [64, 32])"
   ]
  },
  {
   "cell_type": "code",
   "execution_count": 4,
   "metadata": {},
   "outputs": [],
   "source": [
    "data = tf.placeholder(dtype=tf.float32, shape=[32, 10, 100], name='input_data')"
   ]
  },
  {
   "cell_type": "code",
   "execution_count": 5,
   "metadata": {
    "scrolled": false
   },
   "outputs": [],
   "source": [
    "outputs, state = tf.nn.dynamic_rnn(cell=test_cell, inputs=data, dtype=tf.float32)"
   ]
  },
  {
   "cell_type": "code",
   "execution_count": 6,
   "metadata": {},
   "outputs": [
    {
     "data": {
      "text/plain": [
       "<tf.Tensor 'rnn/transpose_1:0' shape=(32, 10, 16) dtype=float32>"
      ]
     },
     "execution_count": 6,
     "metadata": {},
     "output_type": "execute_result"
    }
   ],
   "source": [
    "outputs"
   ]
  },
  {
   "cell_type": "code",
   "execution_count": 7,
   "metadata": {},
   "outputs": [
    {
     "data": {
      "text/plain": [
       "[<tf.Variable 'rnn/first_wrapper/cell1/gates/kernel:0' shape=(228, 256) dtype=float32_ref>,\n",
       " <tf.Variable 'rnn/first_wrapper/cell1/gates/bias:0' shape=(256,) dtype=float32_ref>,\n",
       " <tf.Variable 'rnn/first_wrapper/cell1/candidate/kernel:0' shape=(228, 128) dtype=float32_ref>,\n",
       " <tf.Variable 'rnn/first_wrapper/cell1/candidate/bias:0' shape=(128,) dtype=float32_ref>,\n",
       " <tf.Variable 'rnn/first_wrapper/prenet/dense_1/kernel:0' shape=(128, 64) dtype=float32_ref>,\n",
       " <tf.Variable 'rnn/first_wrapper/prenet/dense_1/bias:0' shape=(64,) dtype=float32_ref>,\n",
       " <tf.Variable 'rnn/first_wrapper/prenet/dense_2/kernel:0' shape=(64, 32) dtype=float32_ref>,\n",
       " <tf.Variable 'rnn/first_wrapper/prenet/dense_2/bias:0' shape=(32,) dtype=float32_ref>,\n",
       " <tf.Variable 'rnn/first_wrapper/cell2/gates/kernel:0' shape=(48, 32) dtype=float32_ref>,\n",
       " <tf.Variable 'rnn/first_wrapper/cell2/gates/bias:0' shape=(32,) dtype=float32_ref>,\n",
       " <tf.Variable 'rnn/first_wrapper/cell2/candidate/kernel:0' shape=(48, 16) dtype=float32_ref>,\n",
       " <tf.Variable 'rnn/first_wrapper/cell2/candidate/bias:0' shape=(16,) dtype=float32_ref>]"
      ]
     },
     "execution_count": 7,
     "metadata": {},
     "output_type": "execute_result"
    }
   ],
   "source": [
    "tf.trainable_variables()"
   ]
  }
 ],
 "metadata": {
  "kernelspec": {
   "display_name": "taco_env",
   "language": "python",
   "name": "taco_env"
  },
  "language_info": {
   "codemirror_mode": {
    "name": "ipython",
    "version": 3
   },
   "file_extension": ".py",
   "mimetype": "text/x-python",
   "name": "python",
   "nbconvert_exporter": "python",
   "pygments_lexer": "ipython3",
   "version": "3.6.5"
  }
 },
 "nbformat": 4,
 "nbformat_minor": 2
}
