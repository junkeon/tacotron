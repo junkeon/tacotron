{
 "cells": [
  {
   "cell_type": "code",
   "execution_count": 1,
   "metadata": {},
   "outputs": [],
   "source": [
    "import hgtk\n",
    "import os\n",
    "import shutil"
   ]
  },
  {
   "cell_type": "code",
   "execution_count": 2,
   "metadata": {},
   "outputs": [],
   "source": [
    "data_dir = '/hd/data/speech/KSS/'\n",
    "\n",
    "with open(os.path.join(data_dir, 'transcript.v.1.1.txt')) as f:\n",
    "    temp = f.readlines()"
   ]
  },
  {
   "cell_type": "code",
   "execution_count": 3,
   "metadata": {},
   "outputs": [],
   "source": [
    "if os.path.isfile(os.path.join(data_dir, 'metadata.csv')):\n",
    "    with open(os.path.join(data_dir, 'metadata.csv'), 'w') as f:\n",
    "        f.write('')"
   ]
  },
  {
   "cell_type": "code",
   "execution_count": null,
   "metadata": {},
   "outputs": [],
   "source": [
    "for row in temp:\n",
    "    f_name, raw_txt, norm_txt, _, length = row.split('|')\n",
    "    sup, real = f_name[2:].split('_')\n",
    "    \n",
    "    new_name = 'KSS%04d_%s'%(int(sup), real[:-4])\n",
    "    new_line = '%s|%s|%s|%s\\n'%(new_name, \n",
    "                                hgtk.text.decompose(raw_txt, compose_code=''),\n",
    "                                hgtk.text.decompose(norm_txt, compose_code=''),\n",
    "                                norm_txt)\n",
    "    \n",
    "    shutil.copy2(os.path.join(data_dir, f_name), os.path.join(data_dir, 'wavs', new_name + '.wav'))    \n",
    "    \n",
    "    with open(os.path.join(data_dir, 'metadata.csv'), 'a') as f:\n",
    "        f.write(new_line)"
   ]
  }
 ],
 "metadata": {
  "kernelspec": {
   "display_name": "Python 3",
   "language": "python",
   "name": "python3"
  },
  "language_info": {
   "codemirror_mode": {
    "name": "ipython",
    "version": 3
   },
   "file_extension": ".py",
   "mimetype": "text/x-python",
   "name": "python",
   "nbconvert_exporter": "python",
   "pygments_lexer": "ipython3",
   "version": "3.6.5"
  }
 },
 "nbformat": 4,
 "nbformat_minor": 2
}
