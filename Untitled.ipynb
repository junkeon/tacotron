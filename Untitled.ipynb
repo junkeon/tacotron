{
 "cells": [
  {
   "cell_type": "code",
   "execution_count": 7,
   "metadata": {},
   "outputs": [],
   "source": [
    "from datasets.new_datafeeder import get_dataset\n",
    "from hparams import hparams, hparams_debug_string"
   ]
  },
  {
   "cell_type": "code",
   "execution_count": 9,
   "metadata": {},
   "outputs": [
    {
     "data": {
      "text/plain": [
       "HParams([('adam_beta1', 0.9), ('adam_beta2', 0.999), ('attention_depth', 256), ('batch_size', 32), ('cleaners', 'basic_cleaners'), ('decay_learning_rate', True), ('decoder_depth', 256), ('embed_depth', 256), ('encoder_depth', 256), ('frame_length_ms', 50), ('frame_shift_ms', 12.5), ('griffin_lim_iters', 60), ('initial_learning_rate', 0.002), ('max_iters', 200), ('min_level_db', -100), ('num_freq', 1025), ('num_mels', 80), ('outputs_per_step', 5), ('postnet_depth', 256), ('power', 1.5), ('preemphasis', 0.97), ('prenet_depths', [256, 128]), ('ref_level_db', 20), ('sample_rate', 20000), ('use_cmudict', False)])"
      ]
     },
     "execution_count": 9,
     "metadata": {},
     "output_type": "execute_result"
    }
   ],
   "source": [
    "inputs = 'training/train.txt'\n",
    "data_dir = 'training/'\n",
    "hparams.parse('')"
   ]
  },
  {
   "cell_type": "code",
   "execution_count": 11,
   "metadata": {},
   "outputs": [],
   "source": [
    "with open(inputs, encoding='utf-8') as f:\n",
    "    metadata = [row.strip().split('|') for row in f]\n",
    "metadata = sorted(metadata, key=lambda x:x[2])\n",
    "\n",
    "data_element = get_dataset(metadata, data_dir, hparams)"
   ]
  },
  {
   "cell_type": "code",
   "execution_count": 12,
   "metadata": {},
   "outputs": [
    {
     "data": {
      "text/plain": [
       "{'input': <tf.Tensor 'IteratorGetNext:0' shape=(?, ?) dtype=int32>,\n",
       " 'input_lengths': <tf.Tensor 'IteratorGetNext:1' shape=(?,) dtype=int32>,\n",
       " 'mel_targets': <tf.Tensor 'IteratorGetNext:3' shape=(?, ?, 80) dtype=float32>,\n",
       " 'linear_targets': <tf.Tensor 'IteratorGetNext:2' shape=(?, ?, 1025) dtype=float32>}"
      ]
     },
     "execution_count": 12,
     "metadata": {},
     "output_type": "execute_result"
    }
   ],
   "source": [
    "data_element"
   ]
  }
 ],
 "metadata": {
  "kernelspec": {
   "display_name": "taco_env",
   "language": "python",
   "name": "taco_env"
  },
  "language_info": {
   "codemirror_mode": {
    "name": "ipython",
    "version": 3
   },
   "file_extension": ".py",
   "mimetype": "text/x-python",
   "name": "python",
   "nbconvert_exporter": "python",
   "pygments_lexer": "ipython3",
   "version": "3.6.5"
  }
 },
 "nbformat": 4,
 "nbformat_minor": 2
}
