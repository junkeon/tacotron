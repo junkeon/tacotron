{
 "cells": [
  {
   "cell_type": "code",
   "execution_count": 1,
   "metadata": {},
   "outputs": [],
   "source": [
    "from models.modules import *"
   ]
  },
  {
   "cell_type": "code",
   "execution_count": 2,
   "metadata": {},
   "outputs": [],
   "source": [
    "import tensorflow as tf\n",
    "from tensorflow.contrib.rnn import GRUCell, MultiRNNCell, OutputProjectionWrapper, ResidualWrapper\n",
    "from tensorflow.contrib.seq2seq import BasicDecoder, BahdanauAttention, AttentionWrapper\n",
    "from text.symbols import symbols\n",
    "from hparams import hparams, hparams_debug_string"
   ]
  },
  {
   "cell_type": "code",
   "execution_count": 3,
   "metadata": {},
   "outputs": [],
   "source": [
    "batch_size = 1\n",
    "input_len = 10\n",
    "output_len = 100\n",
    "\n",
    "is_training = True\n",
    "\n",
    "hparams.parse('')\n",
    "hp = hparams"
   ]
  },
  {
   "cell_type": "code",
   "execution_count": 4,
   "metadata": {},
   "outputs": [],
   "source": [
    "inputs = tf.placeholder(tf.int32, [batch_size, input_len], 'inputs')\n",
    "input_lengths = tf.placeholder(tf.int32, [batch_size], 'input_lengths')\n",
    "mel_targets = tf.placeholder(tf.float32, [batch_size, output_len, 80], 'mel_targets')\n",
    "linear_targets = tf.placeholder(tf.float32, [batch_size, output_len, 1025], 'linear_targets')"
   ]
  },
  {
   "cell_type": "markdown",
   "metadata": {},
   "source": [
    "### Step0. char embedding and prenet"
   ]
  },
  {
   "cell_type": "code",
   "execution_count": 5,
   "metadata": {},
   "outputs": [],
   "source": [
    "embedding_table = tf.get_variable('embedding', [len(symbols), hp.embed_depth], dtype=tf.float32,\n",
    "                initializer=tf.truncated_normal_initializer(stddev=0.5))\n",
    "embedded_inputs = tf.nn.embedding_lookup(embedding_table, inputs)"
   ]
  },
  {
   "cell_type": "code",
   "execution_count": 6,
   "metadata": {},
   "outputs": [],
   "source": [
    "prenet_outputs = prenet(embedded_inputs, is_training, hp.prenet_depths)"
   ]
  },
  {
   "cell_type": "markdown",
   "metadata": {},
   "source": [
    "### Step1. Conv1 stacking (Conv, Batch)"
   ]
  },
  {
   "cell_type": "code",
   "execution_count": 7,
   "metadata": {},
   "outputs": [],
   "source": [
    "input_channels = prenet_outputs.get_shape()[2]\n",
    "K = 16\n",
    "projections = [128, input_channels]\n",
    "depth = hp.encoder_depth"
   ]
  },
  {
   "cell_type": "code",
   "execution_count": 8,
   "metadata": {},
   "outputs": [],
   "source": [
    "conv_set = [conv1d(prenet_outputs, k, 128, tf.nn.relu, is_training, 'conv1d_%d' % k) for k in range(1, K + 1)]"
   ]
  },
  {
   "cell_type": "code",
   "execution_count": 9,
   "metadata": {},
   "outputs": [],
   "source": [
    "conv_outputs = tf.concat(conv_set, axis = -1)"
   ]
  },
  {
   "cell_type": "code",
   "execution_count": 10,
   "metadata": {},
   "outputs": [],
   "source": [
    "maxpool_output = tf.layers.max_pooling1d(conv_outputs, pool_size=2, strides=1, padding='same')"
   ]
  },
  {
   "cell_type": "code",
   "execution_count": 12,
   "metadata": {},
   "outputs": [],
   "source": [
    "proj1_output = conv1d(maxpool_output, 3, projections[0], tf.nn.relu, is_training, 'proj_1')\n",
    "proj2_output = conv1d(proj1_output, 3, projections[1], None, is_training, 'proj_2')"
   ]
  },
  {
   "cell_type": "markdown",
   "metadata": {},
   "source": [
    "### Step2. Highway network (High)"
   ]
  },
  {
   "cell_type": "code",
   "execution_count": 16,
   "metadata": {},
   "outputs": [],
   "source": [
    "highway_input = proj2_output + prenet_outputs"
   ]
  },
  {
   "cell_type": "code",
   "execution_count": 22,
   "metadata": {},
   "outputs": [],
   "source": [
    "half_depth = depth // 2\n",
    "assert half_depth*2 == depth, 'encoder and postnet depths must be even.'\n",
    "\n",
    "# Handle dimensionality mismatch:\n",
    "if highway_input.shape[2] != half_depth:\n",
    "    highway_input = tf.layers.dense(highway_input, half_depth)"
   ]
  },
  {
   "cell_type": "code",
   "execution_count": 23,
   "metadata": {},
   "outputs": [],
   "source": [
    "for i in range(4):\n",
    "    highway_input = highwaynet(highway_input, 'highway_%d' % (i+1), half_depth)\n",
    "rnn_input = highway_input"
   ]
  },
  {
   "cell_type": "markdown",
   "metadata": {},
   "source": [
    "### Step4. Bidirectional GRU (GRU)"
   ]
  },
  {
   "cell_type": "code",
   "execution_count": 25,
   "metadata": {},
   "outputs": [
    {
     "name": "stdout",
     "output_type": "stream",
     "text": [
      "WARNING:tensorflow:From /home/jkpark/Documents/tacotron/taco_env/lib/python3.6/site-packages/tensorflow/python/ops/rnn.py:417: calling reverse_sequence (from tensorflow.python.ops.array_ops) with seq_dim is deprecated and will be removed in a future version.\n",
      "Instructions for updating:\n",
      "seq_dim is deprecated, use seq_axis instead\n",
      "WARNING:tensorflow:From /home/jkpark/Documents/tacotron/taco_env/lib/python3.6/site-packages/tensorflow/python/util/deprecation.py:432: calling reverse_sequence (from tensorflow.python.ops.array_ops) with batch_dim is deprecated and will be removed in a future version.\n",
      "Instructions for updating:\n",
      "batch_dim is deprecated, use batch_axis instead\n"
     ]
    }
   ],
   "source": [
    "outputs, states = tf.nn.bidirectional_dynamic_rnn(\n",
    "    GRUCell(half_depth),\n",
    "    GRUCell(half_depth),\n",
    "    rnn_input,\n",
    "    sequence_length=input_lengths,\n",
    "    dtype=tf.float32)"
   ]
  }
 ],
 "metadata": {
  "kernelspec": {
   "display_name": "taco_env",
   "language": "python",
   "name": "taco_env"
  },
  "language_info": {
   "codemirror_mode": {
    "name": "ipython",
    "version": 3
   },
   "file_extension": ".py",
   "mimetype": "text/x-python",
   "name": "python",
   "nbconvert_exporter": "python",
   "pygments_lexer": "ipython3",
   "version": "3.6.5"
  }
 },
 "nbformat": 4,
 "nbformat_minor": 2
}
